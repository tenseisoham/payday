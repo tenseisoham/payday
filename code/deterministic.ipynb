{
 "cells": [
  {
   "cell_type": "markdown",
   "metadata": {},
   "source": [
    "1. Temperature-Based Heating Load Estimation\n",
    "Base Temperature: Establish a base temperature (also called the balance point) below which heating is generally required. This is often around 18-20°C, but can vary depending on the building's insulation and internal heat gains.\n",
    "Degree Days: Calculate heating degree days (HDD) as the difference between the base temperature and the daily average temperature when it is below the base temperature.\n",
    "2. Regression Analysis\n",
    "Statistical Model: Use regression analysis to correlate the total energy consumption with the HDD. The part of the energy consumption that increases with HDD can be attributed to heating.\n",
    "Control for Other Factors: Include other factors such as occupancy, internal heat gains, and solar radiation if available, to better isolate the heating component."
   ]
  },
  {
   "cell_type": "code",
   "execution_count": null,
   "metadata": {},
   "outputs": [],
   "source": []
  }
 ],
 "metadata": {
  "kernelspec": {
   "display_name": "Python 3",
   "language": "python",
   "name": "python3"
  },
  "language_info": {
   "codemirror_mode": {
    "name": "ipython",
    "version": 3
   },
   "file_extension": ".py",
   "mimetype": "text/x-python",
   "name": "python",
   "nbconvert_exporter": "python",
   "pygments_lexer": "ipython3",
   "version": "3.11.2"
  }
 },
 "nbformat": 4,
 "nbformat_minor": 2
}
